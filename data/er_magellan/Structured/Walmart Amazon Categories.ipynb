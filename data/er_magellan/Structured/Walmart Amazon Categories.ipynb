{
 "cells": [
  {
   "cell_type": "code",
   "execution_count": 1,
   "metadata": {},
   "outputs": [],
   "source": [
    "import os\n",
    "import json\n",
    "import gzip\n",
    "import pandas as pd\n",
    "from urllib.request import urlopen\n",
    "from itertools import combinations\n",
    "import re\n",
    "import torch\n",
    "import numpy as np\n",
    "import pickle"
   ]
  },
  {
   "cell_type": "code",
   "execution_count": null,
   "metadata": {},
   "outputs": [],
   "source": []
  },
  {
   "cell_type": "code",
   "execution_count": 44,
   "metadata": {},
   "outputs": [],
   "source": [
    "df_a = pd.read_csv(\"Datasets/Structured/Walmart-Amazon/tableA.csv\")\n",
    "df_b = pd.read_csv(\"Datasets/Structured/Walmart-Amazon/tableB.csv\")\n",
    "train0 = pd.read_csv(\"Datasets/Structured/Walmart-Amazon/train_0.csv\")\n",
    "valid0 = pd.read_csv(\"Datasets/Structured/Walmart-Amazon/valid_0.csv\")\n",
    "test0 = pd.read_csv(\"Datasets/Structured/Walmart-Amazon/test_0.csv\")"
   ]
  },
  {
   "cell_type": "code",
   "execution_count": 45,
   "metadata": {},
   "outputs": [],
   "source": [
    "categories_dict = dict()"
   ]
  },
  {
   "cell_type": "markdown",
   "metadata": {},
   "source": [
    "# Electronics Specific Catgories"
   ]
  },
  {
   "cell_type": "code",
   "execution_count": 47,
   "metadata": {},
   "outputs": [],
   "source": [
    "cameras_category = {'camcorders', 'camera and camcorder accessories', 'digital cameras', 'dvd accessories', 'dvd players', \n",
    "                   'electronics - general', 'film cameras','bullet cameras', 'camcorder batteries', \n",
    "                   'camcorders', 'camera batteries', 'camera lenses', 'camera photo', 'digital camera accessories', \n",
    "                    'digital cameras', 'digital slr camera bundles', 'digital slr cameras', 'filters', 'film','flashes', \n",
    "                    'floppy diskettes', 'hidden cameras', 'lens accessories', 'photo studio', 'photo video design', \n",
    "                   'point shoot digital cameras','underwater photography', 'webcams', 'binoculars','game cameras',\n",
    "                   'tripods', 'photography - general'}\n",
    "\n",
    "for cat in cameras_category:\n",
    "    if cat in categories_dict.keys():\n",
    "        categories_dict[cat]['general'].add('general_Electronics')\n",
    "        categories_dict[cat]['main'].add('cameras_category')\n",
    "    else:\n",
    "        categories_dict[cat] = {'general': {'general_Electronics'}, 'main': {'cameras_category'}}"
   ]
  },
  {
   "cell_type": "code",
   "execution_count": 48,
   "metadata": {},
   "outputs": [],
   "source": [
    "phones_category = {'phone accessories', 'phones','prepaid wireless phones', 'walkie-talkie/frs',\n",
    "                  'answering devices', 'caller id displays', 'corded telephones', 'corded-cordless combo telephones', \n",
    "                   'cordless telephones', 'frs two-way radios', 'gmrs-frs two-way radios',\n",
    "                  'telephone accessories', 'telephones accessories', 'voip', 'answering devices', }\n",
    "\n",
    "for cat in phones_category:\n",
    "    if cat in categories_dict.keys():\n",
    "        categories_dict[cat]['general'].add('general_Electronics')\n",
    "        categories_dict[cat]['main'].add('phones_category')\n",
    "    else:\n",
    "        categories_dict[cat] = {'general': {'general_Electronics'}, 'main': {'phones_category'}}"
   ]
  },
  {
   "cell_type": "code",
   "execution_count": 49,
   "metadata": {},
   "outputs": [],
   "source": [
    "smartphones_category = {'post-paid cellphones','desktop chargers', 'faceplates', 'fan shop', 'no-contract phones',\n",
    "                       'phones with plans','touch pads', 'touch screen tablet accessories','unlocked phones',\n",
    "                       'bundles', 'in-dash navigation'}\n",
    "\n",
    "for cat in smartphones_category:\n",
    "    if cat in categories_dict.keys():\n",
    "        categories_dict[cat]['general'].add('general_Electronics')\n",
    "        categories_dict[cat]['main'].add('smartphones_category')\n",
    "    else:\n",
    "        categories_dict[cat] = {'general': {'general_Electronics'}, 'main': {'smartphones_category'}}"
   ]
  },
  {
   "cell_type": "code",
   "execution_count": 50,
   "metadata": {},
   "outputs": [],
   "source": [
    "audio_category = {'stereos/audio', 'ipod','mp3', 'mp3 accessories','portable audio',\n",
    "                  'audio cables', 'audio conferencing', 'audio video accessories', \n",
    "                  'audio-video kits', 'audio-video shelving','bluetooth headsets', 'cd players', 'cd-mp3 players', \n",
    "                 'component subwoofers', 'digital media devices','home audio crossovers', 'home audio theater', \n",
    "                 'home theater systems', 'mp3 player accessories', 'mp3 players', 'portable audio video',\n",
    "                 'tweeter diaphragms','boomboxes', 'audio video'}\n",
    "                  \n",
    "for cat in audio_category:\n",
    "    if cat in categories_dict.keys():\n",
    "        categories_dict[cat]['general'].add('general_Electronics')\n",
    "        categories_dict[cat]['main'].add('audio_category')\n",
    "    else:\n",
    "        categories_dict[cat] = {'general': {'general_Electronics'}, 'main': {'audio_category'}}"
   ]
  },
  {
   "cell_type": "code",
   "execution_count": 51,
   "metadata": {},
   "outputs": [],
   "source": [
    "computers_category = {'computers', 'electronics - general', 'laptop computers','software', 'business office',\n",
    "                     'computer accessories', 'computer components','computer monitor mounts', 'computer speakers', \n",
    "                      'computers accessories', 'desktops','document creation','flowcharts','game cameras', 'gaming mice',\n",
    "                     'laptops', 'netbooks', 'photo editing', 'professional design', 'programmable','software',\n",
    "                     'tablets','webcams', 'controllers', 'hard drives'}\n",
    "\n",
    "for cat in computers_category:\n",
    "    if cat in categories_dict.keys():\n",
    "        categories_dict[cat]['general'].add('general_Electronics')\n",
    "        categories_dict[cat]['main'].add('computers_category')\n",
    "    else:\n",
    "        categories_dict[cat] = {'general': {'general_Electronics'}, 'main': {'computers_category'}}"
   ]
  },
  {
   "cell_type": "code",
   "execution_count": 52,
   "metadata": {},
   "outputs": [],
   "source": [
    "tv_and_dvd_category = {'electronics - general', 'electronics : flat panel tv','television', 'tv accessories', \n",
    "                      'video receiving & installation','digital media devices','dvd home theater', 'dvd players', \n",
    "                       'dvd r discs', 'dvd rw discs', 'dvd-r discs', 'dvd-ram discs', 'dvi cables', 'film', 'overhead video',\n",
    "                       'portable audio video', 'portable dvd players', 'portable novelty tvs', \n",
    "                       'professional video accessories', 'television stands entertainment centers', \n",
    "                       'television video', 'televisions', 'televisions video','tv accessories', \n",
    "                       'tv mounts', 'tv-dvd combinations', 'tvs', 'home theater'}\n",
    "\n",
    "for cat in tv_and_dvd_category:\n",
    "    if cat in categories_dict.keys():\n",
    "        categories_dict[cat]['general'].add('general_Electronics')\n",
    "        categories_dict[cat]['main'].add('tv_and_dvd_category')\n",
    "    else:\n",
    "        categories_dict[cat] = {'general': {'general_Electronics'}, 'main': {'tv_and_dvd_category'}}"
   ]
  },
  {
   "cell_type": "code",
   "execution_count": 53,
   "metadata": {},
   "outputs": [],
   "source": [
    "hardware_and_external_accessories_category = {'electronics - general','memory','mice', 'monitors', 'networking', 'printers', \n",
    "                                              'satellite radio','storage', 'usb drives', 'access-control keypads', 'accessories',\n",
    "                                              'accessories supplies', 'accessory kits', 'adapter rings', 'adapters', 'cable security devices',\n",
    "                                             'amplifier installation', 'amplifier wiring kits', 'amplifiers', 'amps','cables interconnects', \n",
    "                                             'analog-to-digital dtv converters','auxiliary input adapters', 'bar code scanners',\n",
    "                                             'basic', 'bd-r discs', 'bd-re discs', 'blank media', 'blu-ray disc players', \n",
    "                                              'blu-ray drives','business paper products','calculator accessories', 'calculators',\n",
    "                                             'cb radios','cd-r discs', 'cd-rw discs', 'changers', 'chargers', 'chargers adapters', \n",
    "                                              'chargers cables', 'coaxial speakers','component subwoofers', 'component video', \n",
    "                                              'computer cable adapters', 'computer monitor mounts', 'computer speakers', \n",
    "                                              'computers accessories', 'connectors adapters', 'data cables', 'data cartridges', \n",
    "                                              'desktops','digital media devices', 'disc players recorders','distribution',\n",
    "                                             'distribution panels', 'dlt cleaning cartridges', 'docking stations', 'dome cameras', \n",
    "                                             'electrical', 'electronics', 'equalizers', 'ethernet cables', 'external data storage', \n",
    "                                              'external floppy drives', 'external hard drives', 'faceplates','filters',\n",
    "                                             'firewire cables', 'firewire port cards', 'graphics cards', 'graphics tablets', \n",
    "                                             'hard drive enclosures', 'hardware', 'hdmi cables', 'headphone accessories', \n",
    "                                              'headphones', 'headsets', 'headsets microphones', 'hubs', 'i o port cards', \n",
    "                                              'inkjet all-in-one printers', 'inkjet printer ink', \n",
    "                                              'inkjet printer paper', 'internal dvd drives', 'internal hard drives', \n",
    "                                              'internal optical drives', 'internal sound cards','keyboard mouse combos', \n",
    "                                              'keyboards', 'keyboards mice input devices', 'keyboards styluses', 'kvm switches', \n",
    "                                              'laptop netbook computer accessories','laser all-in-one printers', \n",
    "                                              'laser pointers', 'laser printer toner', 'laser printers', 'media storage organization', 'memo scratch pads', \n",
    "                                              'memory', 'memory card adapters', 'memory card readers', 'memory cards', \n",
    "                                              'microphones accessories', 'modems', 'monitor accessories', 'monitor arms stands', 'monitors', \n",
    "                                              'motherboards', 'mp3 player cables adapters', 'network adapters', 'network attached storage', \n",
    "                                              'network cards', 'networking products', 'office electronics','office electronics accessories', \n",
    "                                             'optical drives', 'pda handheld accessories','photo background support equipment', \n",
    "                                             'plug play satellite radios', 'point shoot digital camera bundles', \n",
    "                                              'portable cd players', 'postal scales', 'power adapters', 'power amplifiers', 'power cables', \n",
    "                                              'power conditioners', 'power converters', 'power ground cable', 'power inverters', 'power packs', \n",
    "                                              'power strips', 'power supplies', 'power-cable terminals', 'powerline network adapters', 'preamps', \n",
    "                                              'presentation pointers', 'presentation remotes', 'presentation supplies', 'print servers', 'printer accessories', \n",
    "                                              'printer control cards', 'printer drawers', 'printer feeders', 'printer finishers', 'printer ink toner', \n",
    "                                              'printer labels laser inkjet', 'printer photoconductors', 'printer roll holders', 'printer staplers', \n",
    "                                              'printer staples', 'printer transfer belts', 'computer cases'\n",
    "                                              'printer transfer rollers', 'printer transfer units', 'printer trays', \n",
    "                                              'printers', 'printers scanners', 'printing', 'projection screens', 'projector accessories', \n",
    "                                              'projector bags cases', 'projector mounts', 'radar detectors', 'radio antennas', 'radio scanners', \n",
    "                                              'radios', 'radios mp3 cd players', 'rca cables', 'remote controls', 'remote-control extenders',\n",
    "                                              'routers', 's-video cables', 'safety', 'satellite radio', 'satellite radio tuners adapters', \n",
    "                                              'scanner accessories', 'scanners', 'scientific', 'scsi cables', 'scsi port cards', \n",
    "                                              'security monitors displays', 'serial cables', 'shortwave', 'signal boosters', \n",
    "                                              'speaker boxes', 'speaker cables', 'speaker connectors', 'speaker installation','speaker mounts',\n",
    "                                              'speaker parts components', 'speaker stands', 'speaker systems', 'speaker wire', 'speakers', \n",
    "                                              'sports outdoor gps', 'spotting scopes', 'stage studio cables', 'stereo amplifiers', 'stereos', \n",
    "                                              'storage file boxes', 'storage presentation materials', 'studio environment', 'styli',\n",
    "                                              'subwoofer amplifiers', 'subwoofer boxes and enclosures', 'subwoofer cabinets',\n",
    "                                              'subwoofer cables', 'subwoofers', 'surge protectors', 'switchers', 'switches', 'synch pc cords', \n",
    "                                             'tape decks', 'time cards', 'time clocks', 'timers', 'trackballs', 'turntables','tweeter diaphragms',\n",
    "                                             'two-way radios accessories', 'typewriters', 'underwater lighting', \n",
    "                                              'uninterrupted power supply ups', 'universal fm cassette adapters','upconverting dvd players', \n",
    "                                              'usb cables', 'usb flash drives', 'usb network adapters', 'usb port cards', 'vhs', 'video cables', \n",
    "                                              'video capture cards', 'video converters', 'video glasses', 'voip', \n",
    "                                              'video multiplexers quads', 'video projector accessories', 'video projectors', 'video transmission systems', \n",
    "                                             'wire management', 'wired headsets', 'wireless access points', 'wireless microphones', 'wires', \n",
    "                                              'lamps', 'lighting', 'wiring harnesses', 'office furniture lighting', 'outlet plates',\n",
    "                                             'wall chargers', 'wall plates connectors', 'controllers','mounts', 'hard drives',\n",
    "                                             'computers', 'bags cases', 'stationery & office machinery', 'cases', \n",
    "                                              'coin button cell', 'screen protectors', 'computer cases', 'cases bags',\n",
    "                                             'ac adapters', 'antennas', 'electronics-inflexible kit', 'all-in-one printers',\n",
    "                                             'printer transfer rollers'}\n",
    "\n",
    "for cat in hardware_and_external_accessories_category:\n",
    "    if cat in categories_dict.keys():\n",
    "        categories_dict[cat]['general'].add('general_Electronics')\n",
    "        categories_dict[cat]['main'].add('hardware_and_external_accessories_category')\n",
    "    else:\n",
    "        categories_dict[cat] = {'general': {'general_Electronics'}, 'main': {'hardware_and_external_accessories_category'}}"
   ]
  },
  {
   "cell_type": "code",
   "execution_count": 54,
   "metadata": {},
   "outputs": [],
   "source": [
    "navigation_category = {'handheld gps', 'gps system accessories', 'handheld gps', \n",
    "                       'handheld portable satellite radios', 'hiking gps units'}\n",
    "\n",
    "for cat in navigation_category:\n",
    "    if cat in categories_dict.keys():\n",
    "        categories_dict[cat]['general'].add('general_Electronics')\n",
    "        categories_dict[cat]['main'].add('navigation_category')\n",
    "    else:\n",
    "        categories_dict[cat] = {'general': {'general_Electronics'}, 'main': {'navigation_category'}}"
   ]
  },
  {
   "cell_type": "code",
   "execution_count": 55,
   "metadata": {},
   "outputs": [],
   "source": [
    "batteries_category = {'12v', '6v', '9v', 'a', 'aa', 'aaa', 'batteries', 'batteries accessories', 'batteries chargers', \n",
    "                      'batteries chargers accessories', 'battery chargers', 'battery wiring terminals','c', \n",
    "                     'camcorder batteries', 'camera batteries', 'd', 'household batteries'}\n",
    "\n",
    "for cat in batteries_category:\n",
    "    if cat in categories_dict.keys():\n",
    "        categories_dict[cat]['general'].add('general_Electronics')\n",
    "        categories_dict[cat]['main'].add('batteries_category')\n",
    "    else:\n",
    "        categories_dict[cat] = {'general': {'general_Electronics'}, 'main': {'batteries_category'}}"
   ]
  },
  {
   "cell_type": "code",
   "execution_count": null,
   "metadata": {},
   "outputs": [],
   "source": []
  },
  {
   "cell_type": "markdown",
   "metadata": {},
   "source": [
    "# Personal Equipment"
   ]
  },
  {
   "cell_type": "code",
   "execution_count": 56,
   "metadata": {},
   "outputs": [],
   "source": [
    "art_and_work_category = {'business cards',  'colored paper','coin button cell', 'complete tripod units', \n",
    "                           'continuous-form labels', 'covers', 'covers skins', 'file folder labels', \n",
    "                          'impact dot matrix printer ribbons', 'label makers', 'labeling tapes', 'labels stickers',\n",
    "                           'laminating supplies', 'view binders', 'wide-format paper','wrist rests', \n",
    "                        'screen protectors', 'self-stick note pad holders', 'self-stick notes', 'shipping labels',\n",
    "                        'portfolios', 'postcards', 'roll paper', 'screen filters', 'screen protector foils',\n",
    "                        'mouse pads', 'binocular accessories', 'photo paper', 'other office equipment',\n",
    "                        'looseleaf binder paper', 'case fans', 'disc jewel cases', 'disc storage wallets', \n",
    "                        'paper', 'selector boxes', 'accessories apparel', 'accessories apparel', 'binding machines',\n",
    "                         'personal care', 'index dividers'}\n",
    "\n",
    "for cat in art_and_work_category:\n",
    "    if cat in categories_dict.keys():\n",
    "        categories_dict[cat]['general'].add('general_personal')\n",
    "        categories_dict[cat]['main'].add('art_and_work_category')\n",
    "    else:\n",
    "        categories_dict[cat] = {'general': {'general_personal'}, 'main': {'art_and_work_category'}}"
   ]
  },
  {
   "cell_type": "code",
   "execution_count": 57,
   "metadata": {},
   "outputs": [],
   "source": [
    "hobbies_category  = {'boating gps units chartplotters', 'fishfinders', 'game cameras',\n",
    "                    'hiking gps units', 'binocular accessories', 'english dictionaries', 'tripods',\n",
    "                    'fishing and boating', 'fish finder', 'toys - games'}\n",
    "\n",
    "for cat in hobbies_category:\n",
    "    if cat in categories_dict.keys():\n",
    "        categories_dict[cat]['general'].add('general_personal')\n",
    "        categories_dict[cat]['main'].add('hobbies_category')\n",
    "    else:\n",
    "        categories_dict[cat] = {'general': {'general_personal'}, 'main': {'hobbies_category'}}"
   ]
  },
  {
   "cell_type": "code",
   "execution_count": 58,
   "metadata": {},
   "outputs": [],
   "source": [
    "bags_and_cases_category = {'bags cases', 'cases','disc storage wallets','faceplates', 'fan shop',\n",
    "                          'laptop netbook computer accessories','badge holders','cases sleeves',\n",
    "                          'hard drive bags', 'cases bags', 'handbags', 'computer cases'}\n",
    "\n",
    "for cat in bags_and_cases_category:\n",
    "    if cat in categories_dict.keys():\n",
    "        categories_dict[cat]['general'].add('general_personal')\n",
    "        categories_dict[cat]['main'].add('bags_and_cases_category')\n",
    "    else:\n",
    "        categories_dict[cat] = {'general': {'general_personal'}, 'main': {'bags_and_cases_category'}}"
   ]
  },
  {
   "cell_type": "code",
   "execution_count": 59,
   "metadata": {},
   "outputs": [],
   "source": [
    "dress_category = {'armbands', 'binocular accessories', 'personal care'}\n",
    "\n",
    "for cat in dress_category:\n",
    "    if cat in categories_dict.keys():\n",
    "        categories_dict[cat]['general'].add('general_personal')\n",
    "        categories_dict[cat]['main'].add('dress_category')\n",
    "    else:\n",
    "        categories_dict[cat] = {'general': {'general_personal'}, 'main': {'dress_category'}}"
   ]
  },
  {
   "cell_type": "markdown",
   "metadata": {},
   "source": [
    "# House"
   ]
  },
  {
   "cell_type": "code",
   "execution_count": 60,
   "metadata": {},
   "outputs": [],
   "source": [
    "kitchen_category = {'house wares'}\n",
    "\n",
    "for cat in kitchen_category:\n",
    "    if cat in categories_dict.keys():\n",
    "        categories_dict[cat]['general'].add('general_house')\n",
    "        categories_dict[cat]['main'].add('kitchen_category')\n",
    "    else:\n",
    "        categories_dict[cat] = {'general': {'general_house'}, 'main': {'kitchen_category'}}"
   ]
  },
  {
   "cell_type": "code",
   "execution_count": 61,
   "metadata": {},
   "outputs": [],
   "source": [
    "home_care_category = {'home care', 'cleaning repair', 'cooling pads', 'lamps', 'lighting', \n",
    "                     'selector boxes', 'garden - general', 'surveillance cameras'}\n",
    "\n",
    "for cat in home_care_category:\n",
    "    if cat in categories_dict.keys():\n",
    "        categories_dict[cat]['general'].add('general_house')\n",
    "        categories_dict[cat]['main'].add('home_care_category')\n",
    "    else:\n",
    "        categories_dict[cat] = {'general': {'general_house'}, 'main': {'home_care_category'}}"
   ]
  },
  {
   "cell_type": "code",
   "execution_count": 62,
   "metadata": {},
   "outputs": [],
   "source": [
    "office_category = {'address labels', 'all-purpose labels', 'binder index dividers', \n",
    "                   'binding machine supplies',  'other office equipment', 'photo video design','paper',  \n",
    "                   'shredders',  'stands', 'tripods', 'stationery & office machinery', 'cleaning repair','selector boxes',\n",
    "                  'cooling pads', 'desktop staplers','hanging folders interior folders','office furniture lighting',\n",
    "                  'stands', 'laminating supplies', 'folder labels', 'binding machines', 'all-in-one printers', 'index dividers'}\n",
    "\n",
    "for cat in office_category:\n",
    "    if cat in categories_dict.keys():\n",
    "        categories_dict[cat]['general'].add('general_house')\n",
    "        categories_dict[cat]['main'].add('office_category')\n",
    "    else:\n",
    "        categories_dict[cat] = {'general': {'general_house'}, 'main': {'office_category'}}"
   ]
  },
  {
   "cell_type": "code",
   "execution_count": 63,
   "metadata": {},
   "outputs": [],
   "source": [
    "furnitures_category = {'furniture', 'home care', 'rugs', 'cleaning repair', 'cooling pads', 'footrests', \n",
    "                      'office furniture lighting', 'garden - general'}\n",
    "\n",
    "for cat in furnitures_category:\n",
    "    if cat in categories_dict.keys():\n",
    "        categories_dict[cat]['general'].add('general_house')\n",
    "        categories_dict[cat]['main'].add('furnitures_category')\n",
    "    else:\n",
    "        categories_dict[cat] = {'general': {'general_house'}, 'main': {'furnitures_category'}}"
   ]
  },
  {
   "cell_type": "code",
   "execution_count": 64,
   "metadata": {},
   "outputs": [],
   "source": [
    "security_category = {'antitheft', 'complete surveillance systems', 'digital security recorders','dome cameras',\n",
    "                    'hidden cameras', 'home security systems', 'household sensors alarms', \n",
    "                    'security sensors alarms', 'security surveillance', 'simulated cameras',\n",
    "                    'surveillance cameras', 'surveillance video recorders'}\n",
    "\n",
    "\n",
    "for cat in security_category:\n",
    "    if cat in categories_dict.keys():\n",
    "        categories_dict[cat]['general'].add('general_house')\n",
    "        categories_dict[cat]['main'].add('security_category')\n",
    "    else:\n",
    "        categories_dict[cat] = {'general': {'general_house'}, 'main': {'security_category'}}"
   ]
  },
  {
   "cell_type": "markdown",
   "metadata": {},
   "source": [
    "# Cars"
   ]
  },
  {
   "cell_type": "code",
   "execution_count": 65,
   "metadata": {},
   "outputs": [],
   "source": [
    "cars_gps_category = {'gps', 'portable vehicle gps', 'vehicle gps', 'in-dash navigation'}\n",
    "\n",
    "for cat in cars_gps_category:\n",
    "    if cat in categories_dict.keys():\n",
    "        categories_dict[cat]['general'].add('general_cars')\n",
    "        categories_dict[cat]['main'].add('cars_gps_category')\n",
    "    else:\n",
    "        categories_dict[cat] = {'general': {'general_cars'}, 'main': {'cars_gps_category'}}"
   ]
  },
  {
   "cell_type": "code",
   "execution_count": 66,
   "metadata": {},
   "outputs": [],
   "source": [
    "cars_equipment_category = {'automotive - general', 'car stereos','audio car mounts', \n",
    "                        'car electronics', 'bluetooth car kits', 'car electronics accessories',\n",
    "                        'car cradles', 'car chargers', 'car kits', 'car audio video', 'car stereos', \n",
    "                        'back seat cushions', 'vehicle mounts', 'dash mounting kits', 'mounts', 'cables adapters'}\n",
    "\n",
    "for cat in cars_equipment_category:\n",
    "    if cat in categories_dict.keys():\n",
    "        categories_dict[cat]['general'].add('general_cars')\n",
    "        categories_dict[cat]['main'].add('cars_equipment_category')\n",
    "    else:\n",
    "        categories_dict[cat] = {'general': {'general_cars'}, 'main': {'cars_equipment_category'}}"
   ]
  },
  {
   "cell_type": "code",
   "execution_count": null,
   "metadata": {},
   "outputs": [],
   "source": []
  },
  {
   "cell_type": "markdown",
   "metadata": {},
   "source": [
    "# Label Intents"
   ]
  },
  {
   "cell_type": "code",
   "execution_count": 68,
   "metadata": {},
   "outputs": [],
   "source": [
    "equivalence_intent = {file: dict() for file in ['train', 'valid', 'test']}\n",
    "brand_intent = {file: dict() for file in ['train', 'valid', 'test']}\n",
    "main_cat_intent = {file: dict() for file in ['train', 'valid', 'test']}\n",
    "general_cat_intent = {file: dict() for file in ['train', 'valid', 'test']}"
   ]
  },
  {
   "cell_type": "code",
   "execution_count": 69,
   "metadata": {},
   "outputs": [],
   "source": [
    "file_names = ['train', 'valid', 'test']\n",
    "files = [train0, valid0, test0]\n",
    "\n",
    "for file, file_name in zip(files, file_names):\n",
    "    for i, row in file.iterrows():\n",
    "        if row['label'] == 1:\n",
    "            equivalence_intent[file_name][i] = 1\n",
    "            brand_intent[file_name][i] = 1\n",
    "            main_cat_intent[file_name][i] = 1\n",
    "            general_cat_intent[file_name][i] = 1\n",
    "        else:\n",
    "            equivalence_intent[file_name][i] = 0\n",
    "            if df_a.iloc[row['ltable_id']]['brand'] == df_b.iloc[row['rtable_id']]['brand']:\n",
    "                brand_intent[file_name][i] = 1\n",
    "            else:\n",
    "                brand_intent[file_name][i] = 0\n",
    "                \n",
    "            left_category = df_a.iloc[row['ltable_id']]['category']\n",
    "            right_category = df_b.iloc[row['rtable_id']]['category']\n",
    "            left_main_cats = categories_dict[left_category]['main']\n",
    "            left_general_cats = categories_dict[left_category]['general']\n",
    "            right_main_cats = categories_dict[right_category]['main']\n",
    "            right_general_cats = categories_dict[right_category]['general']\n",
    "            \n",
    "            if left_main_cats.intersection(right_main_cats):\n",
    "                main_cat_intent[file_name][i] = 1\n",
    "            else:\n",
    "                main_cat_intent[file_name][i] = 0\n",
    "                \n",
    "            if left_general_cats.intersection(right_general_cats):\n",
    "                general_cat_intent[file_name][i] = 1\n",
    "            else:\n",
    "                general_cat_intent[file_name][i] = 0            \n",
    "            "
   ]
  },
  {
   "cell_type": "code",
   "execution_count": null,
   "metadata": {},
   "outputs": [],
   "source": []
  },
  {
   "cell_type": "markdown",
   "metadata": {},
   "source": [
    "# Create Text Files"
   ]
  },
  {
   "cell_type": "code",
   "execution_count": 70,
   "metadata": {},
   "outputs": [],
   "source": [
    "dfs = [train0, valid0, test0]\n",
    "file_types = ['train', 'valid', 'test']\n",
    "intents = [intent for intent in range(4)]\n",
    "intent_dicts = [equivalence_intent, brand_intent, main_cat_intent, general_cat_intent]\n",
    "for df, file_type in zip(dfs, file_types):\n",
    "    for intent, intent_dict in zip(intents, intent_dicts):\n",
    "        \n",
    "        file1 = open(\"Walmart-Amazon/Walmart-Amazon_\" + file_type +str(intent) + \".txt\", \"w\", encoding=\"utf-8\")\n",
    "        for index, row in df.iterrows():\n",
    "            left_title = df_a.iloc[row['ltable_id']]['title']\n",
    "            right_title = df_b.iloc[row['rtable_id']]['title']\n",
    "            left_category = df_a.iloc[row['ltable_id']]['category']\n",
    "            right_category = df_b.iloc[row['rtable_id']]['category']\n",
    "            left_modelno = df_a.iloc[row['ltable_id']]['modelno']\n",
    "            right_modelno = df_b.iloc[row['rtable_id']]['modelno']\n",
    "            left_price = df_a.iloc[row['ltable_id']]['price']\n",
    "            right_price = df_b.iloc[row['rtable_id']]['price']\n",
    "            \n",
    "            left_title = \" \" if pd.isna(left_title) else left_title\n",
    "            right_title = \" \" if pd.isna(right_title) else right_title\n",
    "            left_modelno = \" \" if pd.isna(left_modelno) else left_modelno\n",
    "            right_modelno = \" \" if pd.isna(right_modelno) else right_modelno\n",
    "            left_price = \" \" if pd.isna(left_price) else left_price\n",
    "            right_price = \" \" if pd.isna(right_price) else right_price\n",
    "            \n",
    "            text = \"COL title VAL \" + left_title  \\\n",
    "            + \" COL modelno VAL \" + str(left_modelno) \\\n",
    "            + \" COL price VAL \" + str(left_price) + \"\\t\" + \"COL title VAL \" \\\n",
    "            + right_title + \" COL modelno VAL \" + str(right_modelno) + \" COL price VAL \" \\\n",
    "            + str(right_price) + \"\\t\" + str(intent_dict[file_type][index]) + \"\\n\"\n",
    "            file1.write(text)\n",
    "        file1.close()"
   ]
  },
  {
   "cell_type": "markdown",
   "metadata": {},
   "source": [
    "## Multilabel"
   ]
  },
  {
   "cell_type": "code",
   "execution_count": 71,
   "metadata": {},
   "outputs": [],
   "source": [
    "dfs = [train0, valid0, test0]\n",
    "file_types = ['train', 'valid', 'test']\n",
    "intents = [intent for intent in range(4)]\n",
    "intent_dicts = [equivalence_intent, brand_intent, main_cat_intent, general_cat_intent]\n",
    "for df, file_type in zip(dfs, file_types):\n",
    "    file1 = open(\"Walmart-Amazon/Walmart-Amazon_\" + file_type + \"_Multilabel.txt\", \"w\", encoding=\"utf-8\")\n",
    "    for index, row in df.iterrows():\n",
    "        left_title = df_a.iloc[row['ltable_id']]['title']\n",
    "        right_title = df_b.iloc[row['rtable_id']]['title']\n",
    "        left_modelno = df_a.iloc[row['ltable_id']]['modelno']\n",
    "        right_modelno = df_b.iloc[row['rtable_id']]['modelno']\n",
    "        left_price = df_a.iloc[row['ltable_id']]['price']\n",
    "        right_price = df_b.iloc[row['rtable_id']]['price']\n",
    "\n",
    "        left_title = \" \" if pd.isna(left_title) else left_title\n",
    "        right_title = \" \" if pd.isna(right_title) else right_title\n",
    "        left_modelno = \" \" if pd.isna(left_modelno) else left_modelno\n",
    "        right_modelno = \" \" if pd.isna(right_modelno) else right_modelno\n",
    "        left_price = \" \" if pd.isna(left_price) else left_price\n",
    "        right_price = \" \" if pd.isna(right_price) else right_price\n",
    "\n",
    "        text = \"COL title VAL \" + left_title + \" COL modelno VAL \" + str(left_modelno) \\\n",
    "        + \" COL price VAL \" + str(left_price) + \"\\t\" + \"COL title VAL \" \\\n",
    "        + right_title + \" COL modelno VAL \" + str(right_modelno) + \" COL price VAL \" \\\n",
    "        + str(right_price) + \"\\t\" + str(equivalence_intent[file_type][index]) \\\n",
    "        + str(brand_intent[file_type][index]) + str(main_cat_intent[file_type][index]) \\\n",
    "        + str(general_cat_intent[file_type][index]) + \"\\n\"\n",
    "        file1.write(text)\n",
    "    file1.close()"
   ]
  },
  {
   "cell_type": "code",
   "execution_count": null,
   "metadata": {},
   "outputs": [],
   "source": [
    "intent_dicts = [equivalence_intent, brand_intent, main_cat_intent, general_cat_intent]"
   ]
  }
 ],
 "metadata": {
  "kernelspec": {
   "display_name": "Python 3",
   "language": "python",
   "name": "python3"
  },
  "language_info": {
   "codemirror_mode": {
    "name": "ipython",
    "version": 3
   },
   "file_extension": ".py",
   "mimetype": "text/x-python",
   "name": "python",
   "nbconvert_exporter": "python",
   "pygments_lexer": "ipython3",
   "version": "3.6.4"
  }
 },
 "nbformat": 4,
 "nbformat_minor": 2
}
